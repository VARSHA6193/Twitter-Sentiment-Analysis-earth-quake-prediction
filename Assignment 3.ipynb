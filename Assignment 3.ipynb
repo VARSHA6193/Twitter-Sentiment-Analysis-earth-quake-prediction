{
 "cells": [
  {
   "cell_type": "code",
   "execution_count": 1,
   "metadata": {
    "collapsed": false
   },
   "outputs": [],
   "source": [
    "import os\n",
    "import numpy as np\n",
    "import TwitterAPI as ta\n",
    "import twython as tp\n",
    "import twitter as tw\n",
    "import sklearn"
   ]
  },
  {
   "cell_type": "markdown",
   "metadata": {},
   "source": [
    "## Getting Twitter Feed Into File Using Twitter API"
   ]
  },
  {
   "cell_type": "markdown",
   "metadata": {},
   "source": [
    "I first created a twitter developer account.\n",
    "Fetched consumer key and consumer secret key.\n",
    "Then generated Access token key and access token secret.\n",
    "1. I've signed up for  https://dev.twitter.com/apps/new\n",
    "2. Accept the TOS and submit the form by clicking the Create the Twitter Application.\n",
    "3. After creating the Twitter Application click on the tab that says Keys and Access Tokens, then you have to give access to your Twitter Account to use this Application. To do this, click the Create my Access Token button.\n",
    "4. Lastly copy the Consumer key (API key), Consumer Secret, Access Token and Access Token Secret from the screen into our code.\n",
    "\n",
    " I imported twitter API and used Search to get tweets related to earthquake.\n",
    " Specified count=100 to get 100 tweets\n",
    " Specified language as English as other languages are tough to mine.\n",
    " I've ran this piece of code 30 times to generate 30 files with 100 tweets each."
   ]
  },
  {
   "cell_type": "code",
   "execution_count": 2,
   "metadata": {
    "collapsed": false
   },
   "outputs": [
    {
     "name": "stdout",
     "output_type": "stream",
     "text": [
      "#Earthquake (#地震) M4.0 strikes 28 km N of #Hualian (Chinese Taipei) 5 min ago. More info: https://t.co/unOP9hibFl\n",
      "RT @AiANews: Review | Ryan Holmberg on two recent shows that commemorate the 5th anniversary of the Great East Japan Earthquake: https://t.…\n",
      "i just pushed jewel off the bed and I'm pretty sure it made an earthquake\n",
      "RT @Oxfam: Timeline of Oxfam's work in Nepal, thanks to your support: https://t.co/cAn0WpE8Nk #NepalEarthquake #NepalQuake https://t.co/cRk…\n",
      "01:00 Last UK Earthquake Mon, 25 Apr 2016 01:25:29 GMT ; Location: NORTHERN NORTH SEA ; Lat/long: 59.865,0.410 ;  Magnitude: 1.8\n",
      "Sunday Earthquake Shakes Tri-State Region: A 3.5 magnitude earthquake centered in Ballard County struck early... https://t.co/1c1f4uDQMh\n",
      "RT @RealAlexJones: Foreshock? A Significant Earthquake Just Hit The New Madrid Fault Seismic Zone - https://t.co/Y2pzWjbGfK\n",
      "Earthquake - 1.5 magnitude #earthquake. 24 km from Badger, AK, #UnitedStates https://t.co/WT5lRE2euh\n",
      "Earthquake - 3.5 magnitude #earthquake. 48 km from Seward, #AK, United States https://t.co/hxZ8o4uNOj\n",
      "RT @VINDICATORofYah: Foreshock? A Significant Earthquake Just Hit The New Madrid Fault Seismic Zone https://t.co/IdAemv6ce5 #news via @acti…\n",
      "EARTHQUAKE Engineering by Borg Damage Assessment Structural Design Architecture https://t.co/ejgRMokbgA https://t.co/v2O0s7xDDj\n",
      "\"Is The New Madrid Fault Earthquake About To Happen? https://t.co/2v9smXU743 ... https://t.co/LNKIym4i6F\n",
      "@jakky933 here.. yess! 😭 I was sleeping but the earthquake woke me up 😭\n",
      "RT @utahgeological: Where Arizona, Nevada, and Utah come together is earthquake country. Read more here: https://t.co/xQSL8aMjkK https://t.…\n",
      "#EarthquakePH #EarthquakeZamboangaDelNorte\n",
      "Earthquake Information No. 1\n",
      "Date and Time: 3 May 2016 - 07:30 AM... https://t.co/lxoLLWs39m\n",
      "#earthquake  M 1.5 - 24km NNE of Badger, Alaska https://t.co/NKODyNmd9x\n",
      "Fox News Latino Despite strained relations, US help to Ecuador flowing steadily, ambassador says Fox News Latino… https://t.co/iqNAsuZgxb\n",
      "Minor earthquake - Kenai Peninsula, Alaska on May 2, 2016 https://t.co/hvud6TNCRZ via Earthquake-Report\n",
      "Minor earthquake - Seward, Alaska on May 2, 2016 https://t.co/hQfmU9VVNd via Earthquake-Report\n",
      "Earthquakes in the world on May 03 , 2016 (M4.5 or more) https://t.co/Fe38x9QbE1 via Earthquake-Report\n",
      "RT @QuakesToday: 5.3 magnitude #earthquake. 138 km from #Cordova, AK, United States https://t.co/Mts3Nk2tB4\n",
      "RT @QuakesToday: 5.1 magnitude #earthquake. 136 km from #Cordova, AK, United States https://t.co/4tQS6ceU2Q\n",
      "2.1 earthquake occurred near Putauaki, Bay Of Plenty, New Zealand at 23:56 UTC! #earthquake #Putauaki https://t.co/3wG91RMLgo\n",
      "RT @broadly: In Haiti, a priestess heals her community with Vodou (Made possible by @VaselineBrand) https://t.co/XQEk14F6jl https://t.co/CN…\n",
      "RT @QuakesToday: 4.7 magnitude #earthquake. 25 km from Hualian, #Taiwan, Taiwan https://t.co/hXKZeivYxw\n",
      "RT @QuakesToday: 4.4 magnitude #earthquake. 62 km from Taltal, #Antofagasta, Chile https://t.co/MrnS3XAghC\n",
      "RT @Oxfam: Timeline of Oxfam's work in Nepal, thanks to your support: https://t.co/cAn0WpE8Nk #NepalEarthquake #NepalQuake https://t.co/cRk…\n",
      "Jim Rickards: These 3 upcoming events could rock global markets… | The Crux https://t.co/nlySquDgwg\n",
      "RT @ComeManguu: Name a country that has helped them as much as D.R after that earthquake.  https://t.co/TlpOPtOSkm\n",
      "Should include increasing risk associated w/ fracking.. Earthquake study Point Lepreau safety reassessment - @CBCNB  https://t.co/e9dHXHPVj0\n",
      "Man Rescued Two Weeks After Surviving Ecuador Earthquake https://t.co/eFPV1WXCVb @TheLipTV\n",
      "newStream©: Man Rescued Two Weeks After Surviving Ecuador Earthquake https://t.co/rPoRpiCtTm\n",
      "Iliamna Volcano Magnitude 3.2 | Alaska Earthquake Center https://t.co/bFe9Tf7aXx\n",
      "Marry Julia Gerberding, Fuck Canada Earthquake, Kill Josh Hartnett https://t.co/r3norUFgdp\n",
      "Iliamna Volcano Magnitude 3.2 | Alaska Earthquake Center https://t.co/bFe9Tf7aXx https://t.co/WMt7Duiwpf\n",
      "@Lisa_Marie_1000 I'll take rain over an earthquake any day!! Lol\n",
      "#USA -- Foreshock? A Significant #Earthquake Just Hit The #NewMadridFault Seismic Zone  https://t.co/4NSU8RYIm3 https://t.co/23qpyN6P98\n",
      "RT @globalmedicdmgf: Thank you @UMC_UMCOR for helping provide those in #Ecuador affected by the earthquake with clean water #EcuadorQuake h…\n",
      "#nowplaying Showtek, Justin Prime, Matthew Koma, Lazy Rich - Cannonball (Earthquake) [Lazy Rich Remix] #listenlive https://t.co/V7nqF7WPV9\n",
      "RT @UNDP: Our #Cash4Work projects to help survivors rebuild starting in #Ecuador. More: https://t.co/IXhEEkrXYh #ShareHumanity https://t.co…\n",
      "RT @UNDP: Our #Cash4Work projects to help survivors rebuild starting in #Ecuador. More: https://t.co/IXhEEkrXYh #ShareHumanity https://t.co…\n",
      "Disco Fries - Earthquake - Radio Edit \n",
      "Listen Live: https://t.co/ONf3EF4LVr\n",
      "At first twitter didn't want me to tweet about storm rain earthquake\n",
      "RT @AmandaRedmanHQ: #AmandaRedman in #Nepal 6 months on with #WorldVision\n",
      "https://t.co/azPJPOpgI7\n",
      "\n",
      "#NepalUpdate: https://t.co/zPfXm6Z6gF ht…\n",
      "News:  WFP’s Response to the Ecuador Earthquake in Photos https://t.co/pAhHCoD0rl\n",
      "RT @globalmedicdmgf: Thank you @UMC_UMCOR for helping provide those in #Ecuador affected by the earthquake with clean water #EcuadorQuake h…\n",
      "RT @Oxfam: Timeline of Oxfam's work in Nepal, thanks to your support: https://t.co/cAn0WpE8Nk #NepalEarthquake #NepalQuake https://t.co/cRk…\n",
      "RT @HelenClarkUNDP: Read more about how @UNDP is supporting communities in #Ecuador to recover from the serious #earthquake. @UNDPLAC https…\n",
      "RT @HelenClarkUNDP: .@PNUDEcuador has been supporting early recovery from the disastrous #earthquake which struck #Ecuador. @UNDPLAC  https…\n",
      "0.88 earthquake occurred 7km WNW of The Geysers, California at 23:44 UTC! #earthquake #TheGeysers https://t.co/mc1XRMUisl\n",
      "@Fangurus more like a earthquake than a shakeup.\n",
      "RT @BibhavAcharya: .@EllenBarryNYT Disingenuous to put blame squarely on Govt when donors haven't donated? Insights from @AnupKaphle: https…\n",
      "Wait, this #sonicboom was heard in Doncaster? I didn't hear anything... (then again I did sleep through that earthquake years back too.)\n",
      "RT @HelenClarkUNDP: Read more about how @UNDP is supporting communities in #Ecuador to recover from the serious #earthquake. @UNDPLAC https…\n",
      "Name a country that has helped them as much as D.R after that earthquake.  https://t.co/TlpOPtOSkm\n",
      "The earthquake is the third in 24 hours, following tremors in Ecuador and Japan\n",
      "RT @BJCalvillo: Falling in love is like an earthquake. You can't predict when it's going to happen, and when it's over there's usually some…\n",
      "RT @pyopeasant: Park Bom swam into the sea to save Minzy who fell off a jet ski while CL rescued Dara during an earthquake in Japan https:/…\n",
      "So I decided to give him Return and I will replace headbutt for earthquake when I get the TM.\n",
      "Foreshock? A Significant Earthquake Just Hit The New Madrid Fault Seismic Zone https://t.co/YKG44cvTft\n",
      "RT @geonet: Update on Ruapehu: Volcanic earthquake swarm declines, lake stops heating. More here: https://t.co/3oXRXKSP2N\n",
      "Revisiting Nepal, a year after the earthquake. https://t.co/BWVcgowDnE\n",
      "Second Powerful Earthquake Hits Southern Japan https://t.co/gmCYdDHUyj\n",
      "#earthquake (EMSC): ML 2.4 SOUTHERN CALIFORNIA https://t.co/2yTa5WTUB6 G https://t.co/9cgbJwmhII\n",
      "5/2@6:46pm-- #earthquake prediction (1of9) Left ear just did a loud pop. AleutiansNearAndreanofFoxRatKodiakKenaiUnimakPribilofAlaska&amp;Gulf\n",
      "RT @RT_com: 'Silent' volcano spectacularly awakens after Japanese earthquake, blasts ash high into air (VIDEO) https://t.co/MeIPbLkbuv\n",
      "Please support @MoveTheWorld and help them rescue animals that survived the Ecuador earthquake https://t.co/k2kPM8vjjp Pls RT\n",
      "RT @RT_com: 'Silent' volcano spectacularly awakens after Japanese earthquake, blasts ash high into air (VIDEO) https://t.co/MeIPbLkbuv\n",
      "I liked a @YouTube video from @zerkaahd https://t.co/CQvDVgK0mE SIDEMEN EARTHQUAKE JENGA\n",
      "Martina is crowdrising for Art for Ecuador: earthquake relief fund: https://t.co/Cia3vM0EGb\n",
      "Foreshock? A Significant Earthquake Just Hit The New Madrid Fault Seismic Zone https://t.co/ugRgOrGd6e via @DCClothesline\n",
      "RT @unravelyoongi: Blond haired Seokjin\n",
      "\n",
      "-SHOOK US SO BAD IT CAUSED A 10 RICHTER EARTHQUAKE\n",
      "-a blessing\n",
      "-moment of silence for this pls htt…\n",
      "Legitimately thought there was an earthquake the way the walls in our house were shaking...it was just my dad practicing his running man\n",
      "RT @RT_com: 'Silent' volcano spectacularly awakens after Japanese earthquake, blasts ash high into air (VIDEO) https://t.co/MeIPbLkbuv\n",
      "RT @HelenClarkUNDP: .@PNUDEcuador has been supporting early recovery from the disastrous #earthquake which struck #Ecuador. @UNDPLAC  https…\n",
      "5.9 magnitude earthquake hits near Pulaupanggung, Indonesia\n",
      "5.1 magnitude earthquake hits near Whakatane, New... https://t.co/b1jT2DWvIG\n",
      "RT @RT_com: Nuclear power plant stays online in Japan despite aftershocks from earthquake https://t.co/hNyefSz6CI https://t.co/TBeE4RTlbX\n",
      "RT @PreppersGuide: #preppertalk M 1.2 - 30km SSW of Cantwell, Alaska - Time 2016-04-25 16:34:32 UTC 2016-04-25 08:34:32 -08:00 at ... https…\n",
      "Bahia Ecuador – Rocking &amp; Rolling on Sat. night without a band, first hand account of earthquake https://t.co/uQU09LHSfw\n",
      "ML 2.4  SOUTHERN CALIFORNIA | Details: https://t.co/A9VjyH7PKl via EMSC©\n",
      "1.5 earthquake occurred 24km NNE of Badger, Alaska at 23:11 UTC! #earthquake #Badger https://t.co/HvXmNaeaNz\n",
      "【#USGS #Breaking】#earthquake　M 1.5 - 24km NNE of Badger, Alaska https://t.co/EHDcn8Gso6 #alert #tsunami #prayfromjapan\n",
      "RT @everyEarthquake: USGS reports a M0.8 #earthquake 57km NNE of Dixon Lane-Meadow Creek, California on 5/2/16 @ 23:16:05 UTC https://t.co/…\n",
      "USGS reports a M0.88 #earthquake 7km WNW of The Geysers, California on 5/2/16 @ 23:44:22 UTC https://t.co/xbcWZy6noK #quake\n",
      "USGS reports a M0.88 #earthquake 7km WNW of The Geysers, California on 5/2/16 @ 23:44:22 UTC https://t.co/VjeDPHRHID #quake\n",
      "Foreshock? A Significant #Earthquake Just Hit The #NewMadrid Fault Seismic Zone https://t.co/d8tTEjC7tL\n",
      "RT @everyEarthquake: USGS reports a M1.5 #earthquake 24km NNE of Badger, Alaska on 5/2/16 @ 23:11:52 UTC https://t.co/6XEUJ8ezeX #quake\n",
      "RT @quakesLA: 1.5 magnitude #earthquake. 4 mi from #Boron, CA, United States https://t.co/m3Xyg6XIji\n",
      "RT @TheEconomist: Billions of dollars pledged to rebuild Nepal after a huge earthquake have yet to be spent https://t.co/pZ52pUry6j https:/…\n",
      "Then the welleducated speak of it but thy didn't too much rain water can make earthquake maybe bc thy don't see how it could happen\n",
      "Multiple LARGE #hail reports w/ severe storm in #MDwx: RT@KT421: Massive hail in Rockville  https://t.co/SYvTLWhpOA\n",
      "RT @GESC_Chile: ML 4.2  TAIWAN: Magnitude  ML 4.2Region  TAIWANDate time  2016-05-02   20:53:36.7 UTCLocation  24.22 N ; 121.... https://t.…\n",
      "@B_Whitewind There are 2 nuclear plants near seismic centr of recent frequently earthquake. 1 of them still continues in operation. Σ(・oノ)ノ\n",
      "Man Rescued Two Weeks After Surviving Ecuador Earthquake https://t.co/qXbDQI3ecX #Medien\n",
      "RT @LFC_360: @dennisbroox And record another minor earthquake in the process :)\n",
      "RT https://t.co/ufERZHgdsB Interview with survivor of #Ecuador #earthquake @SECED_UK\n",
      "RT @quakesLA: 2.3 magnitude #earthquake. 3 mi from #Idyllwild, CA, United States https://t.co/WiPQLs6AbB\n",
      "RT @Battlefield: Listen up, the battle's coming. Watch the #Battlefield World Premiere on May 6 at 4pm ET. https://t.co/UMsG1pJcEw https://…\n",
      "RT @CNN: Editor's note: Top official tells CNN en Español report of man rescued from earthquake rubble in Ecuador isn't true https://t.co/B…\n",
      "Mag: 3.5 - Depth: 39 km - UTC 11:12 PM -  Seward, Alaska - USGS Info: https://t.co/RbtIG0H2pg\n",
      "\n",
      "QUOTA: {'remaining': 179, 'reset': None, 'limit': None}\n"
     ]
    }
   ],
   "source": [
    "from TwitterAPI import TwitterAPI\n",
    "\n",
    "SEARCH_TERM = 'Earthquake'\n",
    "\n",
    "CONSUMER_KEY = 'aPxDmXHRf5sAJWUjagp8numJN'\n",
    "CONSUMER_SECRET = 'oR4d6yxvSdW9Mta8kFqZyVKZHF8sjQvWsqUElnmafe6LCmbjfq'\n",
    "ACCESS_TOKEN_KEY = '92681453-fIbayv1Q89RO3IZDUtWByUEWWoCjNRvQmXTsC8mNo'\n",
    "ACCESS_TOKEN_SECRET = 'kqG86kSrHpfjmplsT6K4ZM2F2qGe4ROJkQzNtH9oZaQ38'\n",
    "\n",
    "\n",
    "api = TwitterAPI(CONSUMER_KEY,CONSUMER_SECRET,ACCESS_TOKEN_KEY,ACCESS_TOKEN_SECRET)\n",
    "r = api.request('search/tweets', {'q': SEARCH_TERM,'count':100,'lang':\"en\"})\n",
    "myfile = open('data30.txt','w',encoding=\"utf-8\")\n",
    "for item in r.get_iterator():\n",
    "    if 'text' in item:\n",
    "            print(item['text'])\n",
    "            myfile.write(item['text'])\n",
    "myfile.close()\n",
    "print('\\nQUOTA: %s' % r.get_rest_quota())\n",
    "\n",
    "\n"
   ]
  },
  {
   "cell_type": "markdown",
   "metadata": {},
   "source": [
    "#### Placed all the collected tweets from the above step in \"twitter_texts\" folder. Read all those tweets into documents\n"
   ]
  },
  {
   "cell_type": "code",
   "execution_count": 3,
   "metadata": {
    "collapsed": false
   },
   "outputs": [
    {
     "data": {
      "text/plain": [
       "30"
      ]
     },
     "execution_count": 3,
     "metadata": {},
     "output_type": "execute_result"
    }
   ],
   "source": [
    "data_folder = os.path.join(os.path.expanduser(\"~\"), \"twitter_texts\")\n",
    "documents = [open(os.path.join(data_folder, filename),encoding=\"utf-8\").read() for filename in os.listdir(data_folder)]\n",
    "len(documents)"
   ]
  },
  {
   "cell_type": "markdown",
   "metadata": {},
   "source": [
    "#### Using KMeans which is part of the sklearn library"
   ]
  },
  {
   "cell_type": "code",
   "execution_count": 4,
   "metadata": {
    "collapsed": false
   },
   "outputs": [],
   "source": [
    "from sklearn.cluster import KMeans\n",
    "from sklearn.feature_extraction.text import CountVectorizer, TfidfVectorizer"
   ]
  },
  {
   "cell_type": "markdown",
   "metadata": {},
   "source": [
    "#### Let's create a pipeline. \n",
    "##### Notice that df = 0.4  remove any word that occurs more than 40% of the time\n"
   ]
  },
  {
   "cell_type": "code",
   "execution_count": 5,
   "metadata": {
    "collapsed": false
   },
   "outputs": [],
   "source": [
    "from sklearn.pipeline import Pipeline\n",
    "\n",
    "n_clusters = 10\n",
    "\n",
    "pipeline = Pipeline([('feature_extraction', TfidfVectorizer(max_df=0.4)),\n",
    "                     ('clusterer', KMeans(n_clusters=n_clusters))\n",
    "                     ])"
   ]
  },
  {
   "cell_type": "code",
   "execution_count": 6,
   "metadata": {
    "collapsed": false
   },
   "outputs": [
    {
     "data": {
      "text/plain": [
       "Pipeline(steps=[('feature_extraction', TfidfVectorizer(analyzer='word', binary=False, decode_error='strict',\n",
       "        dtype=<class 'numpy.int64'>, encoding='utf-8', input='content',\n",
       "        lowercase=True, max_df=0.4, max_features=None, min_df=1,\n",
       "        ngram_range=(1, 1), norm='l2', preprocessor=None, smoot..._init=10,\n",
       "    n_jobs=1, precompute_distances='auto', random_state=None, tol=0.0001,\n",
       "    verbose=0))])"
      ]
     },
     "execution_count": 6,
     "metadata": {},
     "output_type": "execute_result"
    }
   ],
   "source": [
    "#when we fit here, we do not give any target classes\n",
    "pipeline.fit(documents)"
   ]
  },
  {
   "cell_type": "code",
   "execution_count": 7,
   "metadata": {
    "collapsed": false
   },
   "outputs": [],
   "source": [
    "labels = pipeline.predict(documents)"
   ]
  },
  {
   "cell_type": "markdown",
   "metadata": {},
   "source": [
    "### Display clusters\n"
   ]
  },
  {
   "cell_type": "code",
   "execution_count": 8,
   "metadata": {
    "collapsed": false
   },
   "outputs": [
    {
     "name": "stdout",
     "output_type": "stream",
     "text": [
      "Cluster 0 contains 1 samples\n",
      "Cluster 1 contains 4 samples\n",
      "Cluster 2 contains 2 samples\n",
      "Cluster 3 contains 6 samples\n",
      "Cluster 4 contains 7 samples\n",
      "Cluster 5 contains 2 samples\n",
      "Cluster 6 contains 2 samples\n",
      "Cluster 7 contains 2 samples\n",
      "Cluster 8 contains 2 samples\n",
      "Cluster 9 contains 2 samples\n"
     ]
    }
   ],
   "source": [
    "from collections import Counter\n",
    "c = Counter(labels)\n",
    "for cluster_number in range(n_clusters):\n",
    "    print(\"Cluster {} contains {} samples\".format(cluster_number, c[cluster_number]))"
   ]
  },
  {
   "cell_type": "code",
   "execution_count": 9,
   "metadata": {
    "collapsed": false
   },
   "outputs": [
    {
     "data": {
      "text/plain": [
       "1"
      ]
     },
     "execution_count": 9,
     "metadata": {},
     "output_type": "execute_result"
    }
   ],
   "source": [
    "c[0]"
   ]
  },
  {
   "cell_type": "code",
   "execution_count": 10,
   "metadata": {
    "collapsed": false
   },
   "outputs": [
    {
     "data": {
      "text/plain": [
       "10.199160691398083"
      ]
     },
     "execution_count": 10,
     "metadata": {},
     "output_type": "execute_result"
    }
   ],
   "source": [
    "#determine the inertia\n",
    "pipeline.named_steps['clusterer'].inertia_"
   ]
  },
  {
   "cell_type": "code",
   "execution_count": 11,
   "metadata": {
    "collapsed": false
   },
   "outputs": [],
   "source": [
    "#let's now run a test changing number of clusters.  How does inertia change?\n",
    "inertia_scores = []\n",
    "n_cluster_values = list(range(2, 15))\n",
    "for n_clusters in n_cluster_values:\n",
    "    cur_inertia_scores = []\n",
    "    X = TfidfVectorizer(max_df=0.4).fit_transform(documents)\n",
    "    for i in range(30):\n",
    "        km = KMeans(n_clusters=n_clusters).fit(X)\n",
    "        cur_inertia_scores.append(km.inertia_)\n",
    "    inertia_scores.append(cur_inertia_scores)\n",
    "inertia_scores = np.array(inertia_scores)"
   ]
  },
  {
   "cell_type": "markdown",
   "metadata": {},
   "source": [
    "#### plot to find the elbow\n"
   ]
  },
  {
   "cell_type": "code",
   "execution_count": 12,
   "metadata": {
    "collapsed": false,
    "scrolled": false
   },
   "outputs": [
    {
     "data": {
      "image/png": "[encoded data removed]",
      "text/plain": [
       "<matplotlib.figure.Figure at 0x7ff97f0>"
      ]
     },
     "metadata": {},
     "output_type": "display_data"
    }
   ],
   "source": [
    "%matplotlib inline\n",
    "from matplotlib import pyplot as plt\n",
    "\n",
    "inertia_means = np.mean(inertia_scores, axis=1)\n",
    "inertia_stderr = np.std(inertia_scores, axis=1)\n",
    "\n",
    "fig = plt.figure(figsize=(40,20))\n",
    "plt.errorbar(n_cluster_values, inertia_means, inertia_stderr, color='green')\n",
    "plt.show()"
   ]
  },
  {
   "cell_type": "code",
   "execution_count": 13,
   "metadata": {
    "collapsed": false
   },
   "outputs": [
    {
     "data": {
      "text/plain": [
       "Pipeline(steps=[('feature_extraction', TfidfVectorizer(analyzer='word', binary=False, decode_error='strict',\n",
       "        dtype=<class 'numpy.int64'>, encoding='utf-8', input='content',\n",
       "        lowercase=True, max_df=0.4, max_features=None, min_df=1,\n",
       "        ngram_range=(1, 1), norm='l2', preprocessor=None, smoot..._init=10,\n",
       "    n_jobs=1, precompute_distances='auto', random_state=None, tol=0.0001,\n",
       "    verbose=0))])"
      ]
     },
     "execution_count": 13,
     "metadata": {},
     "output_type": "execute_result"
    }
   ],
   "source": [
    "#we are looking for an elbow in the plot.  Based on this, I picked 8 for the\n",
    "#number of clusters\n",
    "n_clusters = 8\n",
    "\n",
    "pipeline = Pipeline([('feature_extraction', TfidfVectorizer(max_df=0.4)),\n",
    "                     ('clusterer', KMeans(n_clusters=n_clusters))\n",
    "                     ])\n",
    "pipeline.fit(documents)"
   ]
  },
  {
   "cell_type": "code",
   "execution_count": 14,
   "metadata": {
    "collapsed": false
   },
   "outputs": [],
   "source": [
    "labels = pipeline.predict(documents)"
   ]
  },
  {
   "cell_type": "markdown",
   "metadata": {},
   "source": [
    "####  Most important terms in our clusters\n"
   ]
  },
  {
   "cell_type": "code",
   "execution_count": 15,
   "metadata": {
    "collapsed": false
   },
   "outputs": [
    {
     "name": "stdout",
     "output_type": "stream",
     "text": [
      "Cluster 0 contains 2 samples\n",
      "  Most important terms\n",
      "  1) guayaquil (score: 0.3932)\n",
      "  2) chili (score: 0.3877)\n",
      "  3) 9gagtweets (score: 0.3877)\n",
      "  4) cities (score: 0.3823)\n",
      "  5) 3fit9pdvokrt (score: 0.3768)\n",
      "\n",
      "Cluster 1 contains 8 samples\n",
      "  Most important terms\n",
      "  1) turkey (score: 0.1173)\n",
      "  2) vanuatu (score: 0.1145)\n",
      "  3) peninsula (score: 0.1012)\n",
      "  4) trinidad (score: 0.1012)\n",
      "  5) paria (score: 0.1012)\n",
      "\n",
      "Cluster 2 contains 7 samples\n",
      "  Most important terms\n",
      "  1) everything (score: 0.1748)\n",
      "  2) 1dhqdaily (score: 0.1748)\n",
      "  3) online (score: 0.1671)\n",
      "  4) stays (score: 0.1671)\n",
      "  5) despite (score: 0.1618)\n",
      "\n",
      "Cluster 3 contains 2 samples\n",
      "  Most important terms\n",
      "  1) vancouver (score: 0.5383)\n",
      "  2) hubs (score: 0.2682)\n",
      "  3) ctrs (score: 0.1749)\n",
      "  4) comm (score: 0.1749)\n",
      "  5) hz0f8sexf1 (score: 0.1749)\n",
      "\n",
      "Cluster 4 contains 2 samples\n",
      "  Most important terms\n",
      "  1) panama (score: 0.7189)\n",
      "  2) billion (score: 0.2520)\n",
      "  3) yen (score: 0.1550)\n",
      "  4) 250 (score: 0.1485)\n",
      "  5) 280 (score: 0.1485)\n",
      "\n",
      "Cluster 5 contains 5 samples\n",
      "  Most important terms\n",
      "  1) lake (score: 0.2006)\n",
      "  2) shakemaps (score: 0.1994)\n",
      "  3) 80 (score: 0.1994)\n",
      "  4) adak (score: 0.1994)\n",
      "  5) miles (score: 0.1540)\n",
      "\n",
      "Cluster 6 contains 2 samples\n",
      "  Most important terms\n",
      "  1) revisited (score: 0.3145)\n",
      "  2) deadly (score: 0.3145)\n",
      "  3) later (score: 0.2154)\n",
      "  4) tsimyufrhn (score: 0.2101)\n",
      "  5) ashes (score: 0.2101)\n",
      "\n",
      "Cluster 7 contains 2 samples\n",
      "  Most important terms\n",
      "  1) matter (score: 0.2624)\n",
      "  2) kumamoto (score: 0.2587)\n",
      "  3) japantimes (score: 0.2573)\n",
      "  4) offshore (score: 0.2432)\n",
      "  5) zone (score: 0.2275)\n",
      "\n"
     ]
    }
   ],
   "source": [
    "c = Counter(labels)\n",
    "\n",
    "terms = pipeline.named_steps['feature_extraction'].get_feature_names()\n",
    "\n",
    "for cluster_number in range(n_clusters):\n",
    "    print(\"Cluster {} contains {} samples\".format(cluster_number, c[cluster_number]))\n",
    "    print(\"  Most important terms\")\n",
    "    centroid = pipeline.named_steps['clusterer'].cluster_centers_[cluster_number]\n",
    "    most_important = centroid.argsort()\n",
    "    for i in range(5):\n",
    "        term_index = most_important[-(i+1)]\n",
    "        print(\"  {0}) {1} (score: {2:.4f})\".format(i+1, terms[term_index], centroid[term_index]))\n",
    "    print()"
   ]
  },
  {
   "cell_type": "code",
   "execution_count": 16,
   "metadata": {
    "collapsed": false
   },
   "outputs": [
    {
     "data": {
      "text/plain": [
       "0.34927952438815196"
      ]
     },
     "execution_count": 16,
     "metadata": {},
     "output_type": "execute_result"
    }
   ],
   "source": [
    "from sklearn.metrics import silhouette_score\n",
    "X = pipeline.named_steps['feature_extraction'].transform(documents)\n",
    "silhouette_score(X, labels)"
   ]
  },
  {
   "cell_type": "code",
   "execution_count": 17,
   "metadata": {
    "collapsed": false
   },
   "outputs": [
    {
     "data": {
      "text/plain": [
       "3840"
      ]
     },
     "execution_count": 17,
     "metadata": {},
     "output_type": "execute_result"
    }
   ],
   "source": [
    "len(terms)"
   ]
  },
  {
   "cell_type": "code",
   "execution_count": 18,
   "metadata": {
    "collapsed": false
   },
   "outputs": [],
   "source": [
    "Y = pipeline.transform(documents) "
   ]
  },
  {
   "cell_type": "code",
   "execution_count": 19,
   "metadata": {
    "collapsed": false
   },
   "outputs": [],
   "source": [
    "km = KMeans(n_clusters=n_clusters)\n",
    "labels = km.fit_predict(Y)"
   ]
  },
  {
   "cell_type": "code",
   "execution_count": 20,
   "metadata": {
    "collapsed": false
   },
   "outputs": [
    {
     "name": "stdout",
     "output_type": "stream",
     "text": [
      "Cluster 0 contains 2 samples\n",
      "Cluster 1 contains 12 samples\n",
      "Cluster 2 contains 2 samples\n",
      "Cluster 3 contains 2 samples\n",
      "Cluster 4 contains 2 samples\n",
      "Cluster 5 contains 2 samples\n",
      "Cluster 6 contains 5 samples\n",
      "Cluster 7 contains 3 samples\n"
     ]
    }
   ],
   "source": [
    "c = Counter(labels)\n",
    "for cluster_number in range(n_clusters):\n",
    "    print(\"Cluster {} contains {} samples\".format(cluster_number, c[cluster_number]))"
   ]
  },
  {
   "cell_type": "code",
   "execution_count": 21,
   "metadata": {
    "collapsed": false
   },
   "outputs": [
    {
     "data": {
      "text/plain": [
       "0.70576609409026902"
      ]
     },
     "execution_count": 21,
     "metadata": {},
     "output_type": "execute_result"
    }
   ],
   "source": [
    "silhouette_score(Y, labels)"
   ]
  },
  {
   "cell_type": "code",
   "execution_count": 22,
   "metadata": {
    "collapsed": false
   },
   "outputs": [
    {
     "data": {
      "text/plain": [
       "(30, 8)"
      ]
     },
     "execution_count": 22,
     "metadata": {},
     "output_type": "execute_result"
    }
   ],
   "source": [
    "Y.shape"
   ]
  }
 ],
 "metadata": {
  "kernelspec": {
   "display_name": "Python 3",
   "language": "python",
   "name": "python3"
  },
  "language_info": {
   "codemirror_mode": {
    "name": "ipython",
    "version": 3
   },
   "file_extension": ".py",
   "mimetype": "text/x-python",
   "name": "python",
   "nbconvert_exporter": "python",
   "pygments_lexer": "ipython3",
   "version": "3.4.3"
  }
 },
 "nbformat": 4,
 "nbformat_minor": 0
}
